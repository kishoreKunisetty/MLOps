{
  "nbformat": 4,
  "nbformat_minor": 0,
  "metadata": {
    "colab": {
      "provenance": []
    },
    "kernelspec": {
      "name": "python3",
      "display_name": "Python 3"
    },
    "language_info": {
      "name": "python"
    }
  },
  "cells": [
    {
      "cell_type": "code",
      "source": [
        "import pandas as pd\n",
        "from sklearn.feature_extraction import DictVectorizer\n",
        "from sklearn.linear_model import LinearRegression"
      ],
      "metadata": {
        "id": "Ndcuc3fyWpjj"
      },
      "execution_count": 26,
      "outputs": []
    },
    {
      "cell_type": "code",
      "source": [
        "data = pd.read_parquet(\"https://d37ci6vzurychx.cloudfront.net/trip-data/yellow_tripdata_2023-01.parquet\")"
      ],
      "metadata": {
        "id": "OdAJrBP_WynT"
      },
      "execution_count": 4,
      "outputs": []
    },
    {
      "cell_type": "code",
      "source": [
        "data.tail()"
      ],
      "metadata": {
        "colab": {
          "base_uri": "https://localhost:8080/",
          "height": 226
        },
        "id": "jQmci6JaW3HE",
        "outputId": "98931e50-ec9d-423e-b0ab-4574dd193218"
      },
      "execution_count": 8,
      "outputs": [
        {
          "output_type": "execute_result",
          "data": {
            "text/plain": [
              "         VendorID tpep_pickup_datetime tpep_dropoff_datetime  passenger_count  \\\n",
              "3066761         2  2023-01-31 23:58:34   2023-02-01 00:12:33              NaN   \n",
              "3066762         2  2023-01-31 23:31:09   2023-01-31 23:50:36              NaN   \n",
              "3066763         2  2023-01-31 23:01:05   2023-01-31 23:25:36              NaN   \n",
              "3066764         2  2023-01-31 23:40:00   2023-01-31 23:53:00              NaN   \n",
              "3066765         2  2023-01-31 23:07:32   2023-01-31 23:21:56              NaN   \n",
              "\n",
              "         trip_distance  RatecodeID store_and_fwd_flag  PULocationID  \\\n",
              "3066761           3.05         NaN               None           107   \n",
              "3066762           5.80         NaN               None           112   \n",
              "3066763           4.67         NaN               None           114   \n",
              "3066764           3.15         NaN               None           230   \n",
              "3066765           2.85         NaN               None           262   \n",
              "\n",
              "         DOLocationID  payment_type  fare_amount  extra  mta_tax  tip_amount  \\\n",
              "3066761            48             0        15.80    0.0      0.5        3.96   \n",
              "3066762            75             0        22.43    0.0      0.5        2.64   \n",
              "3066763           239             0        17.61    0.0      0.5        5.32   \n",
              "3066764            79             0        18.15    0.0      0.5        4.43   \n",
              "3066765           143             0        15.97    0.0      0.5        2.00   \n",
              "\n",
              "         tolls_amount  improvement_surcharge  total_amount  \\\n",
              "3066761           0.0                    1.0         23.76   \n",
              "3066762           0.0                    1.0         29.07   \n",
              "3066763           0.0                    1.0         26.93   \n",
              "3066764           0.0                    1.0         26.58   \n",
              "3066765           0.0                    1.0         21.97   \n",
              "\n",
              "         congestion_surcharge  airport_fee  \n",
              "3066761                   NaN          NaN  \n",
              "3066762                   NaN          NaN  \n",
              "3066763                   NaN          NaN  \n",
              "3066764                   NaN          NaN  \n",
              "3066765                   NaN          NaN  "
            ],
            "text/html": [
              "\n",
              "  <div id=\"df-178907f3-239d-49fa-8985-f02cb35c5149\" class=\"colab-df-container\">\n",
              "    <div>\n",
              "<style scoped>\n",
              "    .dataframe tbody tr th:only-of-type {\n",
              "        vertical-align: middle;\n",
              "    }\n",
              "\n",
              "    .dataframe tbody tr th {\n",
              "        vertical-align: top;\n",
              "    }\n",
              "\n",
              "    .dataframe thead th {\n",
              "        text-align: right;\n",
              "    }\n",
              "</style>\n",
              "<table border=\"1\" class=\"dataframe\">\n",
              "  <thead>\n",
              "    <tr style=\"text-align: right;\">\n",
              "      <th></th>\n",
              "      <th>VendorID</th>\n",
              "      <th>tpep_pickup_datetime</th>\n",
              "      <th>tpep_dropoff_datetime</th>\n",
              "      <th>passenger_count</th>\n",
              "      <th>trip_distance</th>\n",
              "      <th>RatecodeID</th>\n",
              "      <th>store_and_fwd_flag</th>\n",
              "      <th>PULocationID</th>\n",
              "      <th>DOLocationID</th>\n",
              "      <th>payment_type</th>\n",
              "      <th>fare_amount</th>\n",
              "      <th>extra</th>\n",
              "      <th>mta_tax</th>\n",
              "      <th>tip_amount</th>\n",
              "      <th>tolls_amount</th>\n",
              "      <th>improvement_surcharge</th>\n",
              "      <th>total_amount</th>\n",
              "      <th>congestion_surcharge</th>\n",
              "      <th>airport_fee</th>\n",
              "    </tr>\n",
              "  </thead>\n",
              "  <tbody>\n",
              "    <tr>\n",
              "      <th>3066761</th>\n",
              "      <td>2</td>\n",
              "      <td>2023-01-31 23:58:34</td>\n",
              "      <td>2023-02-01 00:12:33</td>\n",
              "      <td>NaN</td>\n",
              "      <td>3.05</td>\n",
              "      <td>NaN</td>\n",
              "      <td>None</td>\n",
              "      <td>107</td>\n",
              "      <td>48</td>\n",
              "      <td>0</td>\n",
              "      <td>15.80</td>\n",
              "      <td>0.0</td>\n",
              "      <td>0.5</td>\n",
              "      <td>3.96</td>\n",
              "      <td>0.0</td>\n",
              "      <td>1.0</td>\n",
              "      <td>23.76</td>\n",
              "      <td>NaN</td>\n",
              "      <td>NaN</td>\n",
              "    </tr>\n",
              "    <tr>\n",
              "      <th>3066762</th>\n",
              "      <td>2</td>\n",
              "      <td>2023-01-31 23:31:09</td>\n",
              "      <td>2023-01-31 23:50:36</td>\n",
              "      <td>NaN</td>\n",
              "      <td>5.80</td>\n",
              "      <td>NaN</td>\n",
              "      <td>None</td>\n",
              "      <td>112</td>\n",
              "      <td>75</td>\n",
              "      <td>0</td>\n",
              "      <td>22.43</td>\n",
              "      <td>0.0</td>\n",
              "      <td>0.5</td>\n",
              "      <td>2.64</td>\n",
              "      <td>0.0</td>\n",
              "      <td>1.0</td>\n",
              "      <td>29.07</td>\n",
              "      <td>NaN</td>\n",
              "      <td>NaN</td>\n",
              "    </tr>\n",
              "    <tr>\n",
              "      <th>3066763</th>\n",
              "      <td>2</td>\n",
              "      <td>2023-01-31 23:01:05</td>\n",
              "      <td>2023-01-31 23:25:36</td>\n",
              "      <td>NaN</td>\n",
              "      <td>4.67</td>\n",
              "      <td>NaN</td>\n",
              "      <td>None</td>\n",
              "      <td>114</td>\n",
              "      <td>239</td>\n",
              "      <td>0</td>\n",
              "      <td>17.61</td>\n",
              "      <td>0.0</td>\n",
              "      <td>0.5</td>\n",
              "      <td>5.32</td>\n",
              "      <td>0.0</td>\n",
              "      <td>1.0</td>\n",
              "      <td>26.93</td>\n",
              "      <td>NaN</td>\n",
              "      <td>NaN</td>\n",
              "    </tr>\n",
              "    <tr>\n",
              "      <th>3066764</th>\n",
              "      <td>2</td>\n",
              "      <td>2023-01-31 23:40:00</td>\n",
              "      <td>2023-01-31 23:53:00</td>\n",
              "      <td>NaN</td>\n",
              "      <td>3.15</td>\n",
              "      <td>NaN</td>\n",
              "      <td>None</td>\n",
              "      <td>230</td>\n",
              "      <td>79</td>\n",
              "      <td>0</td>\n",
              "      <td>18.15</td>\n",
              "      <td>0.0</td>\n",
              "      <td>0.5</td>\n",
              "      <td>4.43</td>\n",
              "      <td>0.0</td>\n",
              "      <td>1.0</td>\n",
              "      <td>26.58</td>\n",
              "      <td>NaN</td>\n",
              "      <td>NaN</td>\n",
              "    </tr>\n",
              "    <tr>\n",
              "      <th>3066765</th>\n",
              "      <td>2</td>\n",
              "      <td>2023-01-31 23:07:32</td>\n",
              "      <td>2023-01-31 23:21:56</td>\n",
              "      <td>NaN</td>\n",
              "      <td>2.85</td>\n",
              "      <td>NaN</td>\n",
              "      <td>None</td>\n",
              "      <td>262</td>\n",
              "      <td>143</td>\n",
              "      <td>0</td>\n",
              "      <td>15.97</td>\n",
              "      <td>0.0</td>\n",
              "      <td>0.5</td>\n",
              "      <td>2.00</td>\n",
              "      <td>0.0</td>\n",
              "      <td>1.0</td>\n",
              "      <td>21.97</td>\n",
              "      <td>NaN</td>\n",
              "      <td>NaN</td>\n",
              "    </tr>\n",
              "  </tbody>\n",
              "</table>\n",
              "</div>\n",
              "    <div class=\"colab-df-buttons\">\n",
              "\n",
              "  <div class=\"colab-df-container\">\n",
              "    <button class=\"colab-df-convert\" onclick=\"convertToInteractive('df-178907f3-239d-49fa-8985-f02cb35c5149')\"\n",
              "            title=\"Convert this dataframe to an interactive table.\"\n",
              "            style=\"display:none;\">\n",
              "\n",
              "  <svg xmlns=\"http://www.w3.org/2000/svg\" height=\"24px\" viewBox=\"0 -960 960 960\">\n",
              "    <path d=\"M120-120v-720h720v720H120Zm60-500h600v-160H180v160Zm220 220h160v-160H400v160Zm0 220h160v-160H400v160ZM180-400h160v-160H180v160Zm440 0h160v-160H620v160ZM180-180h160v-160H180v160Zm440 0h160v-160H620v160Z\"/>\n",
              "  </svg>\n",
              "    </button>\n",
              "\n",
              "  <style>\n",
              "    .colab-df-container {\n",
              "      display:flex;\n",
              "      gap: 12px;\n",
              "    }\n",
              "\n",
              "    .colab-df-convert {\n",
              "      background-color: #E8F0FE;\n",
              "      border: none;\n",
              "      border-radius: 50%;\n",
              "      cursor: pointer;\n",
              "      display: none;\n",
              "      fill: #1967D2;\n",
              "      height: 32px;\n",
              "      padding: 0 0 0 0;\n",
              "      width: 32px;\n",
              "    }\n",
              "\n",
              "    .colab-df-convert:hover {\n",
              "      background-color: #E2EBFA;\n",
              "      box-shadow: 0px 1px 2px rgba(60, 64, 67, 0.3), 0px 1px 3px 1px rgba(60, 64, 67, 0.15);\n",
              "      fill: #174EA6;\n",
              "    }\n",
              "\n",
              "    .colab-df-buttons div {\n",
              "      margin-bottom: 4px;\n",
              "    }\n",
              "\n",
              "    [theme=dark] .colab-df-convert {\n",
              "      background-color: #3B4455;\n",
              "      fill: #D2E3FC;\n",
              "    }\n",
              "\n",
              "    [theme=dark] .colab-df-convert:hover {\n",
              "      background-color: #434B5C;\n",
              "      box-shadow: 0px 1px 3px 1px rgba(0, 0, 0, 0.15);\n",
              "      filter: drop-shadow(0px 1px 2px rgba(0, 0, 0, 0.3));\n",
              "      fill: #FFFFFF;\n",
              "    }\n",
              "  </style>\n",
              "\n",
              "    <script>\n",
              "      const buttonEl =\n",
              "        document.querySelector('#df-178907f3-239d-49fa-8985-f02cb35c5149 button.colab-df-convert');\n",
              "      buttonEl.style.display =\n",
              "        google.colab.kernel.accessAllowed ? 'block' : 'none';\n",
              "\n",
              "      async function convertToInteractive(key) {\n",
              "        const element = document.querySelector('#df-178907f3-239d-49fa-8985-f02cb35c5149');\n",
              "        const dataTable =\n",
              "          await google.colab.kernel.invokeFunction('convertToInteractive',\n",
              "                                                    [key], {});\n",
              "        if (!dataTable) return;\n",
              "\n",
              "        const docLinkHtml = 'Like what you see? Visit the ' +\n",
              "          '<a target=\"_blank\" href=https://colab.research.google.com/notebooks/data_table.ipynb>data table notebook</a>'\n",
              "          + ' to learn more about interactive tables.';\n",
              "        element.innerHTML = '';\n",
              "        dataTable['output_type'] = 'display_data';\n",
              "        await google.colab.output.renderOutput(dataTable, element);\n",
              "        const docLink = document.createElement('div');\n",
              "        docLink.innerHTML = docLinkHtml;\n",
              "        element.appendChild(docLink);\n",
              "      }\n",
              "    </script>\n",
              "  </div>\n",
              "\n",
              "\n",
              "<div id=\"df-04a8d574-e9d7-496d-9d8a-e842802d16a5\">\n",
              "  <button class=\"colab-df-quickchart\" onclick=\"quickchart('df-04a8d574-e9d7-496d-9d8a-e842802d16a5')\"\n",
              "            title=\"Suggest charts\"\n",
              "            style=\"display:none;\">\n",
              "\n",
              "<svg xmlns=\"http://www.w3.org/2000/svg\" height=\"24px\"viewBox=\"0 0 24 24\"\n",
              "     width=\"24px\">\n",
              "    <g>\n",
              "        <path d=\"M19 3H5c-1.1 0-2 .9-2 2v14c0 1.1.9 2 2 2h14c1.1 0 2-.9 2-2V5c0-1.1-.9-2-2-2zM9 17H7v-7h2v7zm4 0h-2V7h2v10zm4 0h-2v-4h2v4z\"/>\n",
              "    </g>\n",
              "</svg>\n",
              "  </button>\n",
              "\n",
              "<style>\n",
              "  .colab-df-quickchart {\n",
              "      --bg-color: #E8F0FE;\n",
              "      --fill-color: #1967D2;\n",
              "      --hover-bg-color: #E2EBFA;\n",
              "      --hover-fill-color: #174EA6;\n",
              "      --disabled-fill-color: #AAA;\n",
              "      --disabled-bg-color: #DDD;\n",
              "  }\n",
              "\n",
              "  [theme=dark] .colab-df-quickchart {\n",
              "      --bg-color: #3B4455;\n",
              "      --fill-color: #D2E3FC;\n",
              "      --hover-bg-color: #434B5C;\n",
              "      --hover-fill-color: #FFFFFF;\n",
              "      --disabled-bg-color: #3B4455;\n",
              "      --disabled-fill-color: #666;\n",
              "  }\n",
              "\n",
              "  .colab-df-quickchart {\n",
              "    background-color: var(--bg-color);\n",
              "    border: none;\n",
              "    border-radius: 50%;\n",
              "    cursor: pointer;\n",
              "    display: none;\n",
              "    fill: var(--fill-color);\n",
              "    height: 32px;\n",
              "    padding: 0;\n",
              "    width: 32px;\n",
              "  }\n",
              "\n",
              "  .colab-df-quickchart:hover {\n",
              "    background-color: var(--hover-bg-color);\n",
              "    box-shadow: 0 1px 2px rgba(60, 64, 67, 0.3), 0 1px 3px 1px rgba(60, 64, 67, 0.15);\n",
              "    fill: var(--button-hover-fill-color);\n",
              "  }\n",
              "\n",
              "  .colab-df-quickchart-complete:disabled,\n",
              "  .colab-df-quickchart-complete:disabled:hover {\n",
              "    background-color: var(--disabled-bg-color);\n",
              "    fill: var(--disabled-fill-color);\n",
              "    box-shadow: none;\n",
              "  }\n",
              "\n",
              "  .colab-df-spinner {\n",
              "    border: 2px solid var(--fill-color);\n",
              "    border-color: transparent;\n",
              "    border-bottom-color: var(--fill-color);\n",
              "    animation:\n",
              "      spin 1s steps(1) infinite;\n",
              "  }\n",
              "\n",
              "  @keyframes spin {\n",
              "    0% {\n",
              "      border-color: transparent;\n",
              "      border-bottom-color: var(--fill-color);\n",
              "      border-left-color: var(--fill-color);\n",
              "    }\n",
              "    20% {\n",
              "      border-color: transparent;\n",
              "      border-left-color: var(--fill-color);\n",
              "      border-top-color: var(--fill-color);\n",
              "    }\n",
              "    30% {\n",
              "      border-color: transparent;\n",
              "      border-left-color: var(--fill-color);\n",
              "      border-top-color: var(--fill-color);\n",
              "      border-right-color: var(--fill-color);\n",
              "    }\n",
              "    40% {\n",
              "      border-color: transparent;\n",
              "      border-right-color: var(--fill-color);\n",
              "      border-top-color: var(--fill-color);\n",
              "    }\n",
              "    60% {\n",
              "      border-color: transparent;\n",
              "      border-right-color: var(--fill-color);\n",
              "    }\n",
              "    80% {\n",
              "      border-color: transparent;\n",
              "      border-right-color: var(--fill-color);\n",
              "      border-bottom-color: var(--fill-color);\n",
              "    }\n",
              "    90% {\n",
              "      border-color: transparent;\n",
              "      border-bottom-color: var(--fill-color);\n",
              "    }\n",
              "  }\n",
              "</style>\n",
              "\n",
              "  <script>\n",
              "    async function quickchart(key) {\n",
              "      const quickchartButtonEl =\n",
              "        document.querySelector('#' + key + ' button');\n",
              "      quickchartButtonEl.disabled = true;  // To prevent multiple clicks.\n",
              "      quickchartButtonEl.classList.add('colab-df-spinner');\n",
              "      try {\n",
              "        const charts = await google.colab.kernel.invokeFunction(\n",
              "            'suggestCharts', [key], {});\n",
              "      } catch (error) {\n",
              "        console.error('Error during call to suggestCharts:', error);\n",
              "      }\n",
              "      quickchartButtonEl.classList.remove('colab-df-spinner');\n",
              "      quickchartButtonEl.classList.add('colab-df-quickchart-complete');\n",
              "    }\n",
              "    (() => {\n",
              "      let quickchartButtonEl =\n",
              "        document.querySelector('#df-04a8d574-e9d7-496d-9d8a-e842802d16a5 button');\n",
              "      quickchartButtonEl.style.display =\n",
              "        google.colab.kernel.accessAllowed ? 'block' : 'none';\n",
              "    })();\n",
              "  </script>\n",
              "</div>\n",
              "\n",
              "    </div>\n",
              "  </div>\n"
            ],
            "application/vnd.google.colaboratory.intrinsic+json": {
              "type": "dataframe",
              "repr_error": "0"
            }
          },
          "metadata": {},
          "execution_count": 8
        }
      ]
    },
    {
      "cell_type": "code",
      "source": [
        "data.info()"
      ],
      "metadata": {
        "colab": {
          "base_uri": "https://localhost:8080/"
        },
        "id": "6EbNEhqVW8HH",
        "outputId": "39d4c880-e5a2-4207-e77a-47914091a1a9"
      },
      "execution_count": 6,
      "outputs": [
        {
          "output_type": "stream",
          "name": "stdout",
          "text": [
            "<class 'pandas.core.frame.DataFrame'>\n",
            "RangeIndex: 3066766 entries, 0 to 3066765\n",
            "Data columns (total 19 columns):\n",
            " #   Column                 Dtype         \n",
            "---  ------                 -----         \n",
            " 0   VendorID               int64         \n",
            " 1   tpep_pickup_datetime   datetime64[us]\n",
            " 2   tpep_dropoff_datetime  datetime64[us]\n",
            " 3   passenger_count        float64       \n",
            " 4   trip_distance          float64       \n",
            " 5   RatecodeID             float64       \n",
            " 6   store_and_fwd_flag     object        \n",
            " 7   PULocationID           int64         \n",
            " 8   DOLocationID           int64         \n",
            " 9   payment_type           int64         \n",
            " 10  fare_amount            float64       \n",
            " 11  extra                  float64       \n",
            " 12  mta_tax                float64       \n",
            " 13  tip_amount             float64       \n",
            " 14  tolls_amount           float64       \n",
            " 15  improvement_surcharge  float64       \n",
            " 16  total_amount           float64       \n",
            " 17  congestion_surcharge   float64       \n",
            " 18  airport_fee            float64       \n",
            "dtypes: datetime64[us](2), float64(12), int64(4), object(1)\n",
            "memory usage: 444.6+ MB\n"
          ]
        }
      ]
    },
    {
      "cell_type": "markdown",
      "source": [
        "### Question 1 : Find total columns"
      ],
      "metadata": {
        "id": "nIcc6MbMZwPF"
      }
    },
    {
      "cell_type": "code",
      "source": [
        "data.shape"
      ],
      "metadata": {
        "colab": {
          "base_uri": "https://localhost:8080/"
        },
        "id": "ngPQ3UYJW_8O",
        "outputId": "4532e7be-27eb-4fe4-8d29-2cf697e3b914"
      },
      "execution_count": 7,
      "outputs": [
        {
          "output_type": "execute_result",
          "data": {
            "text/plain": [
              "(3066766, 19)"
            ]
          },
          "metadata": {},
          "execution_count": 7
        }
      ]
    },
    {
      "cell_type": "markdown",
      "source": [
        "### Question 2 : find the mean of duration"
      ],
      "metadata": {
        "id": "zAcoyf0YZf5l"
      }
    },
    {
      "cell_type": "code",
      "source": [
        "%%time\n",
        "data['duration'] = data['tpep_dropoff_datetime'] - data['tpep_pickup_datetime'] # create a new column for duration\n",
        "data['duration'] = data['duration'].apply(lambda x : x.total_seconds()/60)       # Converting duration to minutes"
      ],
      "metadata": {
        "colab": {
          "base_uri": "https://localhost:8080/"
        },
        "id": "suLnRpzqXBpJ",
        "outputId": "5e58b3cc-f1a0-46c3-ecd6-898b96a22b6b"
      },
      "execution_count": 15,
      "outputs": [
        {
          "output_type": "stream",
          "name": "stdout",
          "text": [
            "CPU times: user 8.04 s, sys: 949 ms, total: 8.99 s\n",
            "Wall time: 8.97 s\n"
          ]
        }
      ]
    },
    {
      "cell_type": "code",
      "source": [
        "data['duration'].describe() # mean is 42.59"
      ],
      "metadata": {
        "colab": {
          "base_uri": "https://localhost:8080/"
        },
        "id": "FIPT5LiDY3Iw",
        "outputId": "cd5004b6-c0b0-4f0e-a3e4-48d5125080d0"
      },
      "execution_count": 16,
      "outputs": [
        {
          "output_type": "execute_result",
          "data": {
            "text/plain": [
              "count    3.066766e+06\n",
              "mean     1.566900e+01\n",
              "std      4.259435e+01\n",
              "min     -2.920000e+01\n",
              "25%      7.116667e+00\n",
              "50%      1.151667e+01\n",
              "75%      1.830000e+01\n",
              "max      1.002918e+04\n",
              "Name: duration, dtype: float64"
            ]
          },
          "metadata": {},
          "execution_count": 16
        }
      ]
    },
    {
      "cell_type": "markdown",
      "source": [
        "### Question 3 : Dropping outliers"
      ],
      "metadata": {
        "id": "3QJoC-TEZmT0"
      }
    },
    {
      "cell_type": "code",
      "source": [
        "# remove records with duration greater than 60 and less than 1\n",
        "# why? because it's requested in question. you can also try by\n",
        "# using Inter Quantile Ranges or Z-Score to identify outliers.\n",
        "#\n",
        "\n",
        "df = data[(data[\"duration\"] >= 1) & (data[\"duration\"]<= 60)]"
      ],
      "metadata": {
        "id": "e5IqU6bZZPqa"
      },
      "execution_count": 19,
      "outputs": []
    },
    {
      "cell_type": "code",
      "source": [
        "# left over records percentage\n",
        "\n",
        "total_records = data.shape[0]\n",
        "total_df = df.shape[0]\n",
        "\n",
        "print(f\"left over percentage : {(total_df/total_records)*100}\")"
      ],
      "metadata": {
        "colab": {
          "base_uri": "https://localhost:8080/"
        },
        "id": "uYjTcWnFbLg5",
        "outputId": "a3a9cc49-0f0f-4069-db16-fdd673442cb3"
      },
      "execution_count": 20,
      "outputs": [
        {
          "output_type": "stream",
          "name": "stdout",
          "text": [
            "left over percentage : 98.1220282212598\n"
          ]
        }
      ]
    },
    {
      "cell_type": "markdown",
      "source": [
        "### Question 4 : One Hot Encoding\n",
        "\n",
        "Let's apply one-hot encoding to the pickup and dropoff location IDs. We'll use only these two features for our model.\n",
        "\n",
        "- Turn the dataframe into a list of dictionaries (remember to re-cast the ids to strings - otherwise it will label encode them)\n",
        "- Fit a dictionary vectorizer\n",
        "- Get a feature matrix from it\n",
        "\n",
        "What's the dimensionality of this matrix (number of columns)?"
      ],
      "metadata": {
        "id": "0FdrTCIYb7oj"
      }
    },
    {
      "cell_type": "code",
      "source": [
        "select_feats = [\"PULocationID\", \"DOLocationID\"]\n",
        "\n",
        "df[select_feats] = df[select_feats].astype(\"str\")"
      ],
      "metadata": {
        "colab": {
          "base_uri": "https://localhost:8080/"
        },
        "id": "4BhnMQDwb1TW",
        "outputId": "b75de211-ca20-4c61-ed74-34a5bb5af741"
      },
      "execution_count": 22,
      "outputs": [
        {
          "output_type": "stream",
          "name": "stderr",
          "text": [
            "<ipython-input-22-cd5e38749a06>:3: SettingWithCopyWarning: \n",
            "A value is trying to be set on a copy of a slice from a DataFrame.\n",
            "Try using .loc[row_indexer,col_indexer] = value instead\n",
            "\n",
            "See the caveats in the documentation: https://pandas.pydata.org/pandas-docs/stable/user_guide/indexing.html#returning-a-view-versus-a-copy\n",
            "  df[select_feats] = df[select_feats].astype(\"str\")\n"
          ]
        }
      ]
    },
    {
      "cell_type": "code",
      "source": [
        "df.info()"
      ],
      "metadata": {
        "colab": {
          "base_uri": "https://localhost:8080/"
        },
        "id": "CYX9ivCAcsfd",
        "outputId": "208c11f0-68a1-46bb-9fd5-9c6a4d34d0b5"
      },
      "execution_count": 24,
      "outputs": [
        {
          "output_type": "stream",
          "name": "stdout",
          "text": [
            "<class 'pandas.core.frame.DataFrame'>\n",
            "Index: 3009173 entries, 0 to 3066765\n",
            "Data columns (total 20 columns):\n",
            " #   Column                 Dtype         \n",
            "---  ------                 -----         \n",
            " 0   VendorID               int64         \n",
            " 1   tpep_pickup_datetime   datetime64[us]\n",
            " 2   tpep_dropoff_datetime  datetime64[us]\n",
            " 3   passenger_count        float64       \n",
            " 4   trip_distance          float64       \n",
            " 5   RatecodeID             float64       \n",
            " 6   store_and_fwd_flag     object        \n",
            " 7   PULocationID           object        \n",
            " 8   DOLocationID           object        \n",
            " 9   payment_type           int64         \n",
            " 10  fare_amount            float64       \n",
            " 11  extra                  float64       \n",
            " 12  mta_tax                float64       \n",
            " 13  tip_amount             float64       \n",
            " 14  tolls_amount           float64       \n",
            " 15  improvement_surcharge  float64       \n",
            " 16  total_amount           float64       \n",
            " 17  congestion_surcharge   float64       \n",
            " 18  airport_fee            float64       \n",
            " 19  duration               float64       \n",
            "dtypes: datetime64[us](2), float64(13), int64(2), object(3)\n",
            "memory usage: 482.1+ MB\n"
          ]
        }
      ]
    },
    {
      "cell_type": "code",
      "source": [
        "dv = DictVectorizer()\n",
        "\n",
        "train_dicts = df[select_feats].to_dict(orient=\"records\")"
      ],
      "metadata": {
        "id": "4sNMqVZTdRWt"
      },
      "execution_count": 30,
      "outputs": []
    },
    {
      "cell_type": "code",
      "source": [
        "X_train = dv.fit_transform(train_dicts)"
      ],
      "metadata": {
        "id": "yST32sjqezae"
      },
      "execution_count": 32,
      "outputs": []
    },
    {
      "cell_type": "code",
      "source": [
        "X_train.shape"
      ],
      "metadata": {
        "colab": {
          "base_uri": "https://localhost:8080/"
        },
        "id": "6POrBaaNfgUy",
        "outputId": "7e2a505b-5bb2-439f-b854-8f71dfdb6218"
      },
      "execution_count": 33,
      "outputs": [
        {
          "output_type": "execute_result",
          "data": {
            "text/plain": [
              "(3009173, 515)"
            ]
          },
          "metadata": {},
          "execution_count": 33
        }
      ]
    },
    {
      "cell_type": "markdown",
      "source": [
        "### question 5 : Training a Model"
      ],
      "metadata": {
        "id": "v5ZOZ7COhNyQ"
      }
    },
    {
      "cell_type": "code",
      "source": [
        "y_train = df['duration']"
      ],
      "metadata": {
        "id": "cwANvDAvgzMO"
      },
      "execution_count": 34,
      "outputs": []
    },
    {
      "cell_type": "code",
      "source": [
        "model = LinearRegression()\n",
        "model.fit(X_train, y_train)"
      ],
      "metadata": {
        "colab": {
          "base_uri": "https://localhost:8080/",
          "height": 75
        },
        "id": "KITtHJIdhE_1",
        "outputId": "762a0db7-dc76-4222-80c1-402b7bbff476"
      },
      "execution_count": 35,
      "outputs": [
        {
          "output_type": "execute_result",
          "data": {
            "text/plain": [
              "LinearRegression()"
            ],
            "text/html": [
              "<style>#sk-container-id-1 {color: black;background-color: white;}#sk-container-id-1 pre{padding: 0;}#sk-container-id-1 div.sk-toggleable {background-color: white;}#sk-container-id-1 label.sk-toggleable__label {cursor: pointer;display: block;width: 100%;margin-bottom: 0;padding: 0.3em;box-sizing: border-box;text-align: center;}#sk-container-id-1 label.sk-toggleable__label-arrow:before {content: \"▸\";float: left;margin-right: 0.25em;color: #696969;}#sk-container-id-1 label.sk-toggleable__label-arrow:hover:before {color: black;}#sk-container-id-1 div.sk-estimator:hover label.sk-toggleable__label-arrow:before {color: black;}#sk-container-id-1 div.sk-toggleable__content {max-height: 0;max-width: 0;overflow: hidden;text-align: left;background-color: #f0f8ff;}#sk-container-id-1 div.sk-toggleable__content pre {margin: 0.2em;color: black;border-radius: 0.25em;background-color: #f0f8ff;}#sk-container-id-1 input.sk-toggleable__control:checked~div.sk-toggleable__content {max-height: 200px;max-width: 100%;overflow: auto;}#sk-container-id-1 input.sk-toggleable__control:checked~label.sk-toggleable__label-arrow:before {content: \"▾\";}#sk-container-id-1 div.sk-estimator input.sk-toggleable__control:checked~label.sk-toggleable__label {background-color: #d4ebff;}#sk-container-id-1 div.sk-label input.sk-toggleable__control:checked~label.sk-toggleable__label {background-color: #d4ebff;}#sk-container-id-1 input.sk-hidden--visually {border: 0;clip: rect(1px 1px 1px 1px);clip: rect(1px, 1px, 1px, 1px);height: 1px;margin: -1px;overflow: hidden;padding: 0;position: absolute;width: 1px;}#sk-container-id-1 div.sk-estimator {font-family: monospace;background-color: #f0f8ff;border: 1px dotted black;border-radius: 0.25em;box-sizing: border-box;margin-bottom: 0.5em;}#sk-container-id-1 div.sk-estimator:hover {background-color: #d4ebff;}#sk-container-id-1 div.sk-parallel-item::after {content: \"\";width: 100%;border-bottom: 1px solid gray;flex-grow: 1;}#sk-container-id-1 div.sk-label:hover label.sk-toggleable__label {background-color: #d4ebff;}#sk-container-id-1 div.sk-serial::before {content: \"\";position: absolute;border-left: 1px solid gray;box-sizing: border-box;top: 0;bottom: 0;left: 50%;z-index: 0;}#sk-container-id-1 div.sk-serial {display: flex;flex-direction: column;align-items: center;background-color: white;padding-right: 0.2em;padding-left: 0.2em;position: relative;}#sk-container-id-1 div.sk-item {position: relative;z-index: 1;}#sk-container-id-1 div.sk-parallel {display: flex;align-items: stretch;justify-content: center;background-color: white;position: relative;}#sk-container-id-1 div.sk-item::before, #sk-container-id-1 div.sk-parallel-item::before {content: \"\";position: absolute;border-left: 1px solid gray;box-sizing: border-box;top: 0;bottom: 0;left: 50%;z-index: -1;}#sk-container-id-1 div.sk-parallel-item {display: flex;flex-direction: column;z-index: 1;position: relative;background-color: white;}#sk-container-id-1 div.sk-parallel-item:first-child::after {align-self: flex-end;width: 50%;}#sk-container-id-1 div.sk-parallel-item:last-child::after {align-self: flex-start;width: 50%;}#sk-container-id-1 div.sk-parallel-item:only-child::after {width: 0;}#sk-container-id-1 div.sk-dashed-wrapped {border: 1px dashed gray;margin: 0 0.4em 0.5em 0.4em;box-sizing: border-box;padding-bottom: 0.4em;background-color: white;}#sk-container-id-1 div.sk-label label {font-family: monospace;font-weight: bold;display: inline-block;line-height: 1.2em;}#sk-container-id-1 div.sk-label-container {text-align: center;}#sk-container-id-1 div.sk-container {/* jupyter's `normalize.less` sets `[hidden] { display: none; }` but bootstrap.min.css set `[hidden] { display: none !important; }` so we also need the `!important` here to be able to override the default hidden behavior on the sphinx rendered scikit-learn.org. See: https://github.com/scikit-learn/scikit-learn/issues/21755 */display: inline-block !important;position: relative;}#sk-container-id-1 div.sk-text-repr-fallback {display: none;}</style><div id=\"sk-container-id-1\" class=\"sk-top-container\"><div class=\"sk-text-repr-fallback\"><pre>LinearRegression()</pre><b>In a Jupyter environment, please rerun this cell to show the HTML representation or trust the notebook. <br />On GitHub, the HTML representation is unable to render, please try loading this page with nbviewer.org.</b></div><div class=\"sk-container\" hidden><div class=\"sk-item\"><div class=\"sk-estimator sk-toggleable\"><input class=\"sk-toggleable__control sk-hidden--visually\" id=\"sk-estimator-id-1\" type=\"checkbox\" checked><label for=\"sk-estimator-id-1\" class=\"sk-toggleable__label sk-toggleable__label-arrow\">LinearRegression</label><div class=\"sk-toggleable__content\"><pre>LinearRegression()</pre></div></div></div></div></div>"
            ]
          },
          "metadata": {},
          "execution_count": 35
        }
      ]
    },
    {
      "cell_type": "code",
      "source": [
        "y_preds = model.predict(X_train)"
      ],
      "metadata": {
        "id": "6XVtWPwJhKNI"
      },
      "execution_count": 36,
      "outputs": []
    },
    {
      "cell_type": "code",
      "source": [
        "from sklearn.metrics import mean_squared_error\n",
        "import math"
      ],
      "metadata": {
        "id": "8JWoN1MJhdTq"
      },
      "execution_count": 42,
      "outputs": []
    },
    {
      "cell_type": "code",
      "source": [
        "RMSE = math.sqrt(mean_squared_error(y_train, y_preds))\n",
        "\n",
        "print(f\"RMSE : {RMSE}\")"
      ],
      "metadata": {
        "colab": {
          "base_uri": "https://localhost:8080/"
        },
        "id": "8mTeZ6r2hfB0",
        "outputId": "ecde9fbe-aee1-4d4d-822f-33ac5ca95bdb"
      },
      "execution_count": 43,
      "outputs": [
        {
          "output_type": "stream",
          "name": "stdout",
          "text": [
            "RMSE : 7.649261929771859\n"
          ]
        }
      ]
    },
    {
      "cell_type": "markdown",
      "source": [
        "### Question 6 : Evaluating the Model\n",
        "\n",
        "validatation data set is on Feb dataset\n",
        "same preprocessing which is done for jan is to be done again for Feb"
      ],
      "metadata": {
        "id": "xBVsW7tbiFjr"
      }
    },
    {
      "cell_type": "code",
      "source": [
        "val_data = pd.read_parquet(\"https://d37ci6vzurychx.cloudfront.net/trip-data/yellow_tripdata_2023-02.parquet\")\n",
        "val_data.shape"
      ],
      "metadata": {
        "colab": {
          "base_uri": "https://localhost:8080/"
        },
        "id": "3JnhN2FKiYph",
        "outputId": "a642e664-a37e-4522-e217-8836d67c324d"
      },
      "execution_count": 53,
      "outputs": [
        {
          "output_type": "execute_result",
          "data": {
            "text/plain": [
              "(2913955, 19)"
            ]
          },
          "metadata": {},
          "execution_count": 53
        }
      ]
    },
    {
      "cell_type": "code",
      "source": [
        "# set duration col\n",
        "\n",
        "val_data[\"duration\"] = val_data[\"tpep_dropoff_datetime\"] - val_data[\"tpep_pickup_datetime\"]\n",
        "val_data[\"duration\"] = val_data[\"duration\"].apply(lambda x : x.total_seconds()/60)"
      ],
      "metadata": {
        "id": "brw26aBxj13e"
      },
      "execution_count": 54,
      "outputs": []
    },
    {
      "cell_type": "code",
      "source": [
        "val_data = val_data[(val_data[\"duration\"] >= 1) & (val_data[\"duration\"]<= 60)]"
      ],
      "metadata": {
        "id": "YlYbWaTMk_J4"
      },
      "execution_count": 55,
      "outputs": []
    },
    {
      "cell_type": "code",
      "source": [
        "val_df = val_data[select_feats].astype(\"str\")\n",
        "\n",
        "val_dicts = val_df.to_dict(orient=\"records\")\n",
        "\n",
        "val_X = dv.transform(val_dicts)"
      ],
      "metadata": {
        "id": "hCIx5taZisYT"
      },
      "execution_count": 56,
      "outputs": []
    },
    {
      "cell_type": "code",
      "source": [
        "print(f\"val_x shape : {val_X.shape}\")"
      ],
      "metadata": {
        "colab": {
          "base_uri": "https://localhost:8080/"
        },
        "id": "LsoBKClJjVIq",
        "outputId": "62993683-542c-4c98-839e-221edfa67a9e"
      },
      "execution_count": 57,
      "outputs": [
        {
          "output_type": "stream",
          "name": "stdout",
          "text": [
            "val_x shape : (2855951, 515)\n"
          ]
        }
      ]
    },
    {
      "cell_type": "code",
      "source": [
        "val_Y = val_data[\"duration\"]"
      ],
      "metadata": {
        "id": "Ts63PfHAjsSY"
      },
      "execution_count": 58,
      "outputs": []
    },
    {
      "cell_type": "code",
      "source": [
        "val_y_preds = model.predict(val_X)\n",
        "\n",
        "val_RMSE = math.sqrt(mean_squared_error(val_Y, val_y_preds))\n",
        "print(f\"RMSE : {val_RMSE}\")"
      ],
      "metadata": {
        "colab": {
          "base_uri": "https://localhost:8080/"
        },
        "id": "QZKk2UG3jz-6",
        "outputId": "ca22d570-1cad-4467-b55f-f6116dfef530"
      },
      "execution_count": 59,
      "outputs": [
        {
          "output_type": "stream",
          "name": "stdout",
          "text": [
            "RMSE : 7.811818933419717\n"
          ]
        }
      ]
    },
    {
      "cell_type": "markdown",
      "source": [
        "### Revisit\n",
        "\n",
        "+ why did we do outlier removal in validation dataset?\n",
        "+ what is orient in to_dict function in dataframe?"
      ],
      "metadata": {
        "id": "BZtP8heqlW9m"
      }
    },
    {
      "cell_type": "code",
      "source": [],
      "metadata": {
        "id": "1mL07rsCkvh0"
      },
      "execution_count": null,
      "outputs": []
    }
  ]
}